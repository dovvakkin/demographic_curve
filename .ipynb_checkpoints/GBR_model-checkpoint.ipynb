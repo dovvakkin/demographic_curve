{
 "cells": [
  {
   "cell_type": "code",
   "execution_count": 73,
   "metadata": {},
   "outputs": [],
   "source": [
    "import numpy as np\n",
    "import pandas as pd\n",
    "import matplotlib.pyplot as plt\n",
    "import statsmodels.api as sm\n",
    "\n",
    "from pylab import rcParams\n",
    "from statsmodels.tsa.arima_model import ARIMA\n",
    "from statsmodels.tsa.statespace.sarimax import SARIMAX\n",
    "from sklearn import ensemble\n",
    "from sklearn.linear_model import LinearRegression\n",
    "from sklearn.ensemble import RandomForestRegressor\n",
    "from sklearn.datasets import make_regression\n",
    "\n",
    "rcParams['figure.figsize'] = 16, 5"
   ]
  },
  {
   "cell_type": "code",
   "execution_count": 74,
   "metadata": {},
   "outputs": [],
   "source": [
    "data = pd.read_csv(\"some_filter_work/table.csv\").T.iloc[:-5].astype(float)\n",
    "data.index = data.index.astype(int)"
   ]
  },
  {
   "cell_type": "code",
   "execution_count": 75,
   "metadata": {
    "scrolled": true
   },
   "outputs": [
    {
     "data": {
      "text/html": [
       "<div>\n",
       "<style scoped>\n",
       "    .dataframe tbody tr th:only-of-type {\n",
       "        vertical-align: middle;\n",
       "    }\n",
       "\n",
       "    .dataframe tbody tr th {\n",
       "        vertical-align: top;\n",
       "    }\n",
       "\n",
       "    .dataframe thead th {\n",
       "        text-align: right;\n",
       "    }\n",
       "</style>\n",
       "<table border=\"1\" class=\"dataframe\">\n",
       "  <thead>\n",
       "    <tr style=\"text-align: right;\">\n",
       "      <th></th>\n",
       "      <th>0</th>\n",
       "      <th>1</th>\n",
       "      <th>2</th>\n",
       "      <th>3</th>\n",
       "      <th>4</th>\n",
       "      <th>5</th>\n",
       "      <th>6</th>\n",
       "      <th>7</th>\n",
       "      <th>8</th>\n",
       "      <th>9</th>\n",
       "      <th>...</th>\n",
       "      <th>116</th>\n",
       "      <th>117</th>\n",
       "      <th>118</th>\n",
       "      <th>119</th>\n",
       "      <th>120</th>\n",
       "      <th>121</th>\n",
       "      <th>122</th>\n",
       "      <th>123</th>\n",
       "      <th>124</th>\n",
       "      <th>125</th>\n",
       "    </tr>\n",
       "  </thead>\n",
       "  <tbody>\n",
       "    <tr>\n",
       "      <th>2013</th>\n",
       "      <td>0.481420</td>\n",
       "      <td>16.643130</td>\n",
       "      <td>59486800.0</td>\n",
       "      <td>0.284233</td>\n",
       "      <td>9147420.0</td>\n",
       "      <td>NaN</td>\n",
       "      <td>108.95</td>\n",
       "      <td>113.51</td>\n",
       "      <td>107.87</td>\n",
       "      <td>9831510.0</td>\n",
       "      <td>...</td>\n",
       "      <td>23.417002</td>\n",
       "      <td>2.329060e+12</td>\n",
       "      <td>10.976168</td>\n",
       "      <td>3.363941</td>\n",
       "      <td>1.579593e+12</td>\n",
       "      <td>34.570896</td>\n",
       "      <td>7.209058</td>\n",
       "      <td>45.063798</td>\n",
       "      <td>81.299</td>\n",
       "      <td>257095490.0</td>\n",
       "    </tr>\n",
       "    <tr>\n",
       "      <th>2014</th>\n",
       "      <td>0.484164</td>\n",
       "      <td>16.864373</td>\n",
       "      <td>57979030.0</td>\n",
       "      <td>0.284233</td>\n",
       "      <td>9147420.0</td>\n",
       "      <td>NaN</td>\n",
       "      <td>114.95</td>\n",
       "      <td>117.03</td>\n",
       "      <td>108.75</td>\n",
       "      <td>9831510.0</td>\n",
       "      <td>...</td>\n",
       "      <td>23.141895</td>\n",
       "      <td>2.412547e+12</td>\n",
       "      <td>11.156374</td>\n",
       "      <td>3.185143</td>\n",
       "      <td>1.620532e+12</td>\n",
       "      <td>34.831955</td>\n",
       "      <td>7.160688</td>\n",
       "      <td>45.255700</td>\n",
       "      <td>81.483</td>\n",
       "      <td>259623192.0</td>\n",
       "    </tr>\n",
       "    <tr>\n",
       "      <th>2015</th>\n",
       "      <td>0.474279</td>\n",
       "      <td>16.645404</td>\n",
       "      <td>58120047.0</td>\n",
       "      <td>0.284233</td>\n",
       "      <td>9147420.0</td>\n",
       "      <td>NaN</td>\n",
       "      <td>114.12</td>\n",
       "      <td>116.61</td>\n",
       "      <td>108.91</td>\n",
       "      <td>9831510.0</td>\n",
       "      <td>...</td>\n",
       "      <td>21.069111</td>\n",
       "      <td>2.315301e+12</td>\n",
       "      <td>8.171335</td>\n",
       "      <td>2.936060</td>\n",
       "      <td>1.502572e+12</td>\n",
       "      <td>35.096217</td>\n",
       "      <td>7.112082</td>\n",
       "      <td>45.452339</td>\n",
       "      <td>81.671</td>\n",
       "      <td>262196447.0</td>\n",
       "    </tr>\n",
       "    <tr>\n",
       "      <th>2016</th>\n",
       "      <td>NaN</td>\n",
       "      <td>NaN</td>\n",
       "      <td>58454097.0</td>\n",
       "      <td>NaN</td>\n",
       "      <td>9147420.0</td>\n",
       "      <td>NaN</td>\n",
       "      <td>122.19</td>\n",
       "      <td>122.32</td>\n",
       "      <td>109.70</td>\n",
       "      <td>9831510.0</td>\n",
       "      <td>...</td>\n",
       "      <td>19.872585</td>\n",
       "      <td>2.250154e+12</td>\n",
       "      <td>7.715920</td>\n",
       "      <td>2.755947</td>\n",
       "      <td>1.451011e+12</td>\n",
       "      <td>35.354880</td>\n",
       "      <td>7.065133</td>\n",
       "      <td>45.666019</td>\n",
       "      <td>81.862</td>\n",
       "      <td>264746567.0</td>\n",
       "    </tr>\n",
       "    <tr>\n",
       "      <th>2017</th>\n",
       "      <td>NaN</td>\n",
       "      <td>NaN</td>\n",
       "      <td>NaN</td>\n",
       "      <td>NaN</td>\n",
       "      <td>9147420.0</td>\n",
       "      <td>NaN</td>\n",
       "      <td>NaN</td>\n",
       "      <td>NaN</td>\n",
       "      <td>NaN</td>\n",
       "      <td>9831510.0</td>\n",
       "      <td>...</td>\n",
       "      <td>20.402767</td>\n",
       "      <td>2.409495e+12</td>\n",
       "      <td>10.575708</td>\n",
       "      <td>2.733349</td>\n",
       "      <td>1.546725e+12</td>\n",
       "      <td>35.607765</td>\n",
       "      <td>7.019618</td>\n",
       "      <td>45.896329</td>\n",
       "      <td>82.058</td>\n",
       "      <td>267278643.0</td>\n",
       "    </tr>\n",
       "  </tbody>\n",
       "</table>\n",
       "<p>5 rows × 126 columns</p>\n",
       "</div>"
      ],
      "text/plain": [
       "           0          1           2         3          4    5       6    \\\n",
       "2013  0.481420  16.643130  59486800.0  0.284233  9147420.0  NaN  108.95   \n",
       "2014  0.484164  16.864373  57979030.0  0.284233  9147420.0  NaN  114.95   \n",
       "2015  0.474279  16.645404  58120047.0  0.284233  9147420.0  NaN  114.12   \n",
       "2016       NaN        NaN  58454097.0       NaN  9147420.0  NaN  122.19   \n",
       "2017       NaN        NaN         NaN       NaN  9147420.0  NaN     NaN   \n",
       "\n",
       "         7       8          9       ...             116           117  \\\n",
       "2013  113.51  107.87  9831510.0     ...       23.417002  2.329060e+12   \n",
       "2014  117.03  108.75  9831510.0     ...       23.141895  2.412547e+12   \n",
       "2015  116.61  108.91  9831510.0     ...       21.069111  2.315301e+12   \n",
       "2016  122.32  109.70  9831510.0     ...       19.872585  2.250154e+12   \n",
       "2017     NaN     NaN  9831510.0     ...       20.402767  2.409495e+12   \n",
       "\n",
       "            118       119           120        121       122        123  \\\n",
       "2013  10.976168  3.363941  1.579593e+12  34.570896  7.209058  45.063798   \n",
       "2014  11.156374  3.185143  1.620532e+12  34.831955  7.160688  45.255700   \n",
       "2015   8.171335  2.936060  1.502572e+12  35.096217  7.112082  45.452339   \n",
       "2016   7.715920  2.755947  1.451011e+12  35.354880  7.065133  45.666019   \n",
       "2017  10.575708  2.733349  1.546725e+12  35.607765  7.019618  45.896329   \n",
       "\n",
       "         124          125  \n",
       "2013  81.299  257095490.0  \n",
       "2014  81.483  259623192.0  \n",
       "2015  81.671  262196447.0  \n",
       "2016  81.862  264746567.0  \n",
       "2017  82.058  267278643.0  \n",
       "\n",
       "[5 rows x 126 columns]"
      ]
     },
     "execution_count": 75,
     "metadata": {},
     "output_type": "execute_result"
    }
   ],
   "source": [
    "data.tail()"
   ]
  },
  {
   "cell_type": "code",
   "execution_count": 76,
   "metadata": {},
   "outputs": [],
   "source": [
    "data = data.interpolate(limit_direction='both')"
   ]
  },
  {
   "cell_type": "code",
   "execution_count": 77,
   "metadata": {},
   "outputs": [],
   "source": [
    "y = data[76]\n",
    "x = data[[7, 11, 28, 33, 64, 69, 88, 89, 124]]\n",
    "\n",
    "x_train = x[:-1]\n",
    "y_train = y[:-1]\n",
    "\n",
    "x_test = x[-1:]\n",
    "y_test = y[-1:]"
   ]
  },
  {
   "cell_type": "code",
   "execution_count": 78,
   "metadata": {},
   "outputs": [],
   "source": [
    "clf = ensemble.GradientBoostingRegressor(\n",
    "        max_depth = 1, min_samples_split = 25,learning_rate = 0.8)"
   ]
  },
  {
   "cell_type": "code",
   "execution_count": 79,
   "metadata": {},
   "outputs": [
    {
     "data": {
      "text/plain": [
       "GradientBoostingRegressor(alpha=0.9, criterion='friedman_mse', init=None,\n",
       "             learning_rate=0.8, loss='ls', max_depth=1, max_features=None,\n",
       "             max_leaf_nodes=None, min_impurity_decrease=0.0,\n",
       "             min_impurity_split=None, min_samples_leaf=1,\n",
       "             min_samples_split=25, min_weight_fraction_leaf=0.0,\n",
       "             n_estimators=100, presort='auto', random_state=None,\n",
       "             subsample=1.0, verbose=0, warm_start=False)"
      ]
     },
     "execution_count": 79,
     "metadata": {},
     "output_type": "execute_result"
    }
   ],
   "source": [
    "clf.fit(x_train, y_train)"
   ]
  },
  {
   "cell_type": "code",
   "execution_count": 95,
   "metadata": {},
   "outputs": [
    {
     "name": "stdout",
     "output_type": "stream",
     "text": [
      "[12.41191615]\n",
      "[12.4]\n"
     ]
    }
   ],
   "source": [
    "# даже лучше, чем Арима\n",
    "print(clf.predict(x_test))\n",
    "print(y_test.values)"
   ]
  }
 ],
 "metadata": {
  "kernelspec": {
   "display_name": "Python 3",
   "language": "python",
   "name": "python3"
  },
  "language_info": {
   "codemirror_mode": {
    "name": "ipython",
    "version": 3
   },
   "file_extension": ".py",
   "mimetype": "text/x-python",
   "name": "python",
   "nbconvert_exporter": "python",
   "pygments_lexer": "ipython3",
   "version": "3.6.5"
  }
 },
 "nbformat": 4,
 "nbformat_minor": 2
}
