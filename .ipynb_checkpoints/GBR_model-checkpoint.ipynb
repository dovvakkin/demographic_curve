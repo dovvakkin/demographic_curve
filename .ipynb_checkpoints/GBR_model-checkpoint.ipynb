{
 "cells": [
  {
   "cell_type": "code",
   "execution_count": 3,
   "metadata": {},
   "outputs": [],
   "source": [
    "import numpy as np\n",
    "import pandas as pd\n",
    "import matplotlib.pyplot as plt\n",
    "import statsmodels.api as sm\n",
    "\n",
    "from pylab import rcParams\n",
    "from statsmodels.tsa.arima_model import ARIMA\n",
    "from statsmodels.tsa.statespace.sarimax import SARIMAX\n",
    "from sklearn import ensemble\n",
    "from sklearn.linear_model import LinearRegression\n",
    "from sklearn.ensemble import RandomForestRegressor\n",
    "from sklearn.datasets import make_regression\n",
    "\n",
    "rcParams['figure.figsize'] = 16, 5"
   ]
  },
  {
   "cell_type": "code",
   "execution_count": 4,
   "metadata": {},
   "outputs": [],
   "source": [
    "data = pd.read_csv(\"some_filter_work/table.csv\").T.iloc[:-5].astype(float)\n",
    "data.index = data.index.astype(int)"
   ]
  },
  {
   "cell_type": "code",
   "execution_count": 44,
   "metadata": {
    "scrolled": true
   },
   "outputs": [
    {
     "data": {
      "text/html": [
       "<div>\n",
       "<style scoped>\n",
       "    .dataframe tbody tr th:only-of-type {\n",
       "        vertical-align: middle;\n",
       "    }\n",
       "\n",
       "    .dataframe tbody tr th {\n",
       "        vertical-align: top;\n",
       "    }\n",
       "\n",
       "    .dataframe thead th {\n",
       "        text-align: right;\n",
       "    }\n",
       "</style>\n",
       "<table border=\"1\" class=\"dataframe\">\n",
       "  <thead>\n",
       "    <tr style=\"text-align: right;\">\n",
       "      <th></th>\n",
       "      <th>0</th>\n",
       "      <th>1</th>\n",
       "      <th>2</th>\n",
       "      <th>3</th>\n",
       "      <th>4</th>\n",
       "      <th>5</th>\n",
       "      <th>6</th>\n",
       "      <th>7</th>\n",
       "      <th>8</th>\n",
       "      <th>9</th>\n",
       "      <th>...</th>\n",
       "      <th>116</th>\n",
       "      <th>117</th>\n",
       "      <th>118</th>\n",
       "      <th>119</th>\n",
       "      <th>120</th>\n",
       "      <th>121</th>\n",
       "      <th>122</th>\n",
       "      <th>123</th>\n",
       "      <th>124</th>\n",
       "      <th>125</th>\n",
       "    </tr>\n",
       "  </thead>\n",
       "  <tbody>\n",
       "    <tr>\n",
       "      <th>1960</th>\n",
       "      <td>0.983336</td>\n",
       "      <td>19.721671</td>\n",
       "      <td>64869558.0</td>\n",
       "      <td>0.205154</td>\n",
       "      <td>9158960.0</td>\n",
       "      <td>259.646792</td>\n",
       "      <td>43.54</td>\n",
       "      <td>45.45</td>\n",
       "      <td>55.19</td>\n",
       "      <td>9629090.0</td>\n",
       "      <td>...</td>\n",
       "      <td>6.806976</td>\n",
       "      <td>1.638130e+10</td>\n",
       "      <td>3.751838</td>\n",
       "      <td>3.974741</td>\n",
       "      <td>2.060100e+10</td>\n",
       "      <td>20.055880</td>\n",
       "      <td>11.199782</td>\n",
       "      <td>38.732606</td>\n",
       "      <td>69.996</td>\n",
       "      <td>126462473.0</td>\n",
       "    </tr>\n",
       "    <tr>\n",
       "      <th>1961</th>\n",
       "      <td>0.983336</td>\n",
       "      <td>19.721671</td>\n",
       "      <td>64869558.0</td>\n",
       "      <td>0.205154</td>\n",
       "      <td>9158960.0</td>\n",
       "      <td>259.646792</td>\n",
       "      <td>43.54</td>\n",
       "      <td>45.45</td>\n",
       "      <td>55.19</td>\n",
       "      <td>9629090.0</td>\n",
       "      <td>...</td>\n",
       "      <td>6.566519</td>\n",
       "      <td>1.595220e+10</td>\n",
       "      <td>3.751838</td>\n",
       "      <td>3.974741</td>\n",
       "      <td>2.103700e+10</td>\n",
       "      <td>20.055880</td>\n",
       "      <td>11.108299</td>\n",
       "      <td>38.846570</td>\n",
       "      <td>70.377</td>\n",
       "      <td>129276215.0</td>\n",
       "    </tr>\n",
       "    <tr>\n",
       "      <th>1962</th>\n",
       "      <td>0.949378</td>\n",
       "      <td>19.335711</td>\n",
       "      <td>60548008.0</td>\n",
       "      <td>0.207010</td>\n",
       "      <td>9158960.0</td>\n",
       "      <td>267.088286</td>\n",
       "      <td>43.93</td>\n",
       "      <td>45.82</td>\n",
       "      <td>55.38</td>\n",
       "      <td>9629090.0</td>\n",
       "      <td>...</td>\n",
       "      <td>6.530507</td>\n",
       "      <td>1.780210e+10</td>\n",
       "      <td>3.751838</td>\n",
       "      <td>3.974741</td>\n",
       "      <td>2.171400e+10</td>\n",
       "      <td>20.366723</td>\n",
       "      <td>11.031452</td>\n",
       "      <td>39.013264</td>\n",
       "      <td>70.757</td>\n",
       "      <td>131988693.0</td>\n",
       "    </tr>\n",
       "    <tr>\n",
       "      <th>1963</th>\n",
       "      <td>0.948912</td>\n",
       "      <td>19.606375</td>\n",
       "      <td>62420208.0</td>\n",
       "      <td>0.204062</td>\n",
       "      <td>9158960.0</td>\n",
       "      <td>264.793344</td>\n",
       "      <td>45.81</td>\n",
       "      <td>48.12</td>\n",
       "      <td>57.24</td>\n",
       "      <td>9629090.0</td>\n",
       "      <td>...</td>\n",
       "      <td>6.581146</td>\n",
       "      <td>1.864020e+10</td>\n",
       "      <td>4.125064</td>\n",
       "      <td>4.067645</td>\n",
       "      <td>2.338700e+10</td>\n",
       "      <td>20.661953</td>\n",
       "      <td>10.966747</td>\n",
       "      <td>39.224184</td>\n",
       "      <td>71.134</td>\n",
       "      <td>134615404.0</td>\n",
       "    </tr>\n",
       "    <tr>\n",
       "      <th>1964</th>\n",
       "      <td>0.927442</td>\n",
       "      <td>19.430809</td>\n",
       "      <td>60977008.0</td>\n",
       "      <td>0.204499</td>\n",
       "      <td>9158960.0</td>\n",
       "      <td>268.759201</td>\n",
       "      <td>44.06</td>\n",
       "      <td>48.91</td>\n",
       "      <td>60.37</td>\n",
       "      <td>9629090.0</td>\n",
       "      <td>...</td>\n",
       "      <td>6.850933</td>\n",
       "      <td>2.033370e+10</td>\n",
       "      <td>3.494185</td>\n",
       "      <td>4.532927</td>\n",
       "      <td>2.665000e+10</td>\n",
       "      <td>20.950959</td>\n",
       "      <td>10.908860</td>\n",
       "      <td>39.461981</td>\n",
       "      <td>71.508</td>\n",
       "      <td>137215986.0</td>\n",
       "    </tr>\n",
       "  </tbody>\n",
       "</table>\n",
       "<p>5 rows × 126 columns</p>\n",
       "</div>"
      ],
      "text/plain": [
       "           0          1           2         3          4           5      6    \\\n",
       "1960  0.983336  19.721671  64869558.0  0.205154  9158960.0  259.646792  43.54   \n",
       "1961  0.983336  19.721671  64869558.0  0.205154  9158960.0  259.646792  43.54   \n",
       "1962  0.949378  19.335711  60548008.0  0.207010  9158960.0  267.088286  43.93   \n",
       "1963  0.948912  19.606375  62420208.0  0.204062  9158960.0  264.793344  45.81   \n",
       "1964  0.927442  19.430809  60977008.0  0.204499  9158960.0  268.759201  44.06   \n",
       "\n",
       "        7      8          9       ...            116           117       118  \\\n",
       "1960  45.45  55.19  9629090.0     ...       6.806976  1.638130e+10  3.751838   \n",
       "1961  45.45  55.19  9629090.0     ...       6.566519  1.595220e+10  3.751838   \n",
       "1962  45.82  55.38  9629090.0     ...       6.530507  1.780210e+10  3.751838   \n",
       "1963  48.12  57.24  9629090.0     ...       6.581146  1.864020e+10  4.125064   \n",
       "1964  48.91  60.37  9629090.0     ...       6.850933  2.033370e+10  3.494185   \n",
       "\n",
       "           119           120        121        122        123     124  \\\n",
       "1960  3.974741  2.060100e+10  20.055880  11.199782  38.732606  69.996   \n",
       "1961  3.974741  2.103700e+10  20.055880  11.108299  38.846570  70.377   \n",
       "1962  3.974741  2.171400e+10  20.366723  11.031452  39.013264  70.757   \n",
       "1963  4.067645  2.338700e+10  20.661953  10.966747  39.224184  71.134   \n",
       "1964  4.532927  2.665000e+10  20.950959  10.908860  39.461981  71.508   \n",
       "\n",
       "              125  \n",
       "1960  126462473.0  \n",
       "1961  129276215.0  \n",
       "1962  131988693.0  \n",
       "1963  134615404.0  \n",
       "1964  137215986.0  \n",
       "\n",
       "[5 rows x 126 columns]"
      ]
     },
     "execution_count": 44,
     "metadata": {},
     "output_type": "execute_result"
    }
   ],
   "source": [
    "data.head()"
   ]
  },
  {
   "cell_type": "code",
   "execution_count": 6,
   "metadata": {},
   "outputs": [],
   "source": [
    "data = data.interpolate(limit_direction='both')"
   ]
  },
  {
   "cell_type": "code",
   "execution_count": 7,
   "metadata": {},
   "outputs": [],
   "source": [
    "idx = [7, 11, 28, 33, 64, 69, 88, 89, 124]\n",
    "y = data[76]\n",
    "x = data[idx]\n",
    "\n",
    "x_train = x[:-1]\n",
    "y_train = y[:-1]\n",
    "\n",
    "x_test = x[-1:]\n",
    "y_test = y[-1:]"
   ]
  },
  {
   "cell_type": "code",
   "execution_count": 8,
   "metadata": {},
   "outputs": [],
   "source": [
    "clf = ensemble.GradientBoostingRegressor(\n",
    "        max_depth = 1, min_samples_split = 25,learning_rate = 0.8)"
   ]
  },
  {
   "cell_type": "code",
   "execution_count": 9,
   "metadata": {},
   "outputs": [
    {
     "data": {
      "text/plain": [
       "GradientBoostingRegressor(alpha=0.9, criterion='friedman_mse', init=None,\n",
       "             learning_rate=0.8, loss='ls', max_depth=1, max_features=None,\n",
       "             max_leaf_nodes=None, min_impurity_decrease=0.0,\n",
       "             min_impurity_split=None, min_samples_leaf=1,\n",
       "             min_samples_split=25, min_weight_fraction_leaf=0.0,\n",
       "             n_estimators=100, presort='auto', random_state=None,\n",
       "             subsample=1.0, verbose=0, warm_start=False)"
      ]
     },
     "execution_count": 9,
     "metadata": {},
     "output_type": "execute_result"
    }
   ],
   "source": [
    "clf.fit(x_train, y_train)"
   ]
  },
  {
   "cell_type": "code",
   "execution_count": 10,
   "metadata": {},
   "outputs": [
    {
     "name": "stdout",
     "output_type": "stream",
     "text": [
      "[12.41191615]\n",
      "[12.4]\n"
     ]
    }
   ],
   "source": [
    "# даже лучше, чем Арима для 2017 года\n",
    "# делать для 2018 года бессмысленно, потому что это явно будет хуже Аримы\n",
    "print(clf.predict(x_test))\n",
    "print(y_test.values)"
   ]
  },
  {
   "cell_type": "code",
   "execution_count": 14,
   "metadata": {},
   "outputs": [
    {
     "data": {
      "text/plain": [
       "(126,)"
      ]
     },
     "execution_count": 14,
     "metadata": {},
     "output_type": "execute_result"
    }
   ],
   "source": [
    "data_2018 = np.zeros(data.shape[1])\n",
    "data_2018.shape"
   ]
  },
  {
   "cell_type": "code",
   "execution_count": 49,
   "metadata": {},
   "outputs": [
    {
     "name": "stderr",
     "output_type": "stream",
     "text": [
      "/anaconda3/lib/python3.6/site-packages/statsmodels/tsa/base/tsa_model.py:221: ValueWarning: An unsupported index was provided and will be ignored when e.g. forecasting.\n",
      "  ' ignored when e.g. forecasting.', ValueWarning)\n",
      "/anaconda3/lib/python3.6/site-packages/statsmodels/tsa/base/tsa_model.py:531: ValueWarning: No supported index is available. Prediction results will be given with an integer index beginning at `start`.\n",
      "  ValueWarning)\n",
      "/anaconda3/lib/python3.6/site-packages/statsmodels/tsa/base/tsa_model.py:221: ValueWarning: An unsupported index was provided and will be ignored when e.g. forecasting.\n",
      "  ' ignored when e.g. forecasting.', ValueWarning)\n",
      "/anaconda3/lib/python3.6/site-packages/statsmodels/tsa/kalmanf/kalmanfilter.py:649: RuntimeWarning: divide by zero encountered in true_divide\n",
      "  R_mat, T_mat)\n",
      "/anaconda3/lib/python3.6/site-packages/statsmodels/tsa/tsatools.py:607: RuntimeWarning: invalid value encountered in true_divide\n",
      "  (1+np.exp(-params))).copy()\n",
      "/anaconda3/lib/python3.6/site-packages/statsmodels/tsa/tsatools.py:609: RuntimeWarning: invalid value encountered in true_divide\n",
      "  (1+np.exp(-params))).copy()\n"
     ]
    },
    {
     "name": "stdout",
     "output_type": "stream",
     "text": [
      "58    122.065586\n",
      "dtype: float64 \n",
      " 122.32\n",
      "58    17.947273\n",
      "dtype: float64 \n",
      " 17.942\n",
      "58    59531.661719\n",
      "dtype: float64 \n",
      " 59531.661964344006\n",
      "58    18.920447\n",
      "dtype: float64 \n",
      " 18.913107182205998\n"
     ]
    },
    {
     "name": "stderr",
     "output_type": "stream",
     "text": [
      "/anaconda3/lib/python3.6/site-packages/statsmodels/tsa/base/tsa_model.py:531: ValueWarning: No supported index is available. Prediction results will be given with an integer index beginning at `start`.\n",
      "  ValueWarning)\n",
      "/anaconda3/lib/python3.6/site-packages/statsmodels/tsa/base/tsa_model.py:221: ValueWarning: An unsupported index was provided and will be ignored when e.g. forecasting.\n",
      "  ' ignored when e.g. forecasting.', ValueWarning)\n",
      "/anaconda3/lib/python3.6/site-packages/statsmodels/base/model.py:488: HessianInversionWarning: Inverting hessian failed, no bse or cov_params available\n",
      "  'available', HessianInversionWarning)\n",
      "/anaconda3/lib/python3.6/site-packages/statsmodels/tsa/base/tsa_model.py:531: ValueWarning: No supported index is available. Prediction results will be given with an integer index beginning at `start`.\n",
      "  ValueWarning)\n",
      "/anaconda3/lib/python3.6/site-packages/statsmodels/tsa/base/tsa_model.py:221: ValueWarning: An unsupported index was provided and will be ignored when e.g. forecasting.\n",
      "  ' ignored when e.g. forecasting.', ValueWarning)\n",
      "/anaconda3/lib/python3.6/site-packages/statsmodels/tsa/base/tsa_model.py:531: ValueWarning: No supported index is available. Prediction results will be given with an integer index beginning at `start`.\n",
      "  ValueWarning)\n",
      "/anaconda3/lib/python3.6/site-packages/statsmodels/tsa/base/tsa_model.py:221: ValueWarning: An unsupported index was provided and will be ignored when e.g. forecasting.\n",
      "  ' ignored when e.g. forecasting.', ValueWarning)\n",
      "/anaconda3/lib/python3.6/site-packages/statsmodels/tsa/base/tsa_model.py:531: ValueWarning: No supported index is available. Prediction results will be given with an integer index beginning at `start`.\n",
      "  ValueWarning)\n",
      "/anaconda3/lib/python3.6/site-packages/statsmodels/tsa/base/tsa_model.py:221: ValueWarning: An unsupported index was provided and will be ignored when e.g. forecasting.\n",
      "  ' ignored when e.g. forecasting.', ValueWarning)\n",
      "/anaconda3/lib/python3.6/site-packages/statsmodels/tsa/base/tsa_model.py:531: ValueWarning: No supported index is available. Prediction results will be given with an integer index beginning at `start`.\n",
      "  ValueWarning)\n",
      "/anaconda3/lib/python3.6/site-packages/statsmodels/tsa/base/tsa_model.py:221: ValueWarning: An unsupported index was provided and will be ignored when e.g. forecasting.\n",
      "  ' ignored when e.g. forecasting.', ValueWarning)\n",
      "/anaconda3/lib/python3.6/site-packages/statsmodels/tsa/base/tsa_model.py:531: ValueWarning: No supported index is available. Prediction results will be given with an integer index beginning at `start`.\n",
      "  ValueWarning)\n",
      "/anaconda3/lib/python3.6/site-packages/statsmodels/tsa/base/tsa_model.py:221: ValueWarning: An unsupported index was provided and will be ignored when e.g. forecasting.\n",
      "  ' ignored when e.g. forecasting.', ValueWarning)\n"
     ]
    },
    {
     "name": "stdout",
     "output_type": "stream",
     "text": [
      "58    2.496133\n",
      "dtype: float64 \n",
      " 2.20770078004133\n",
      "58    81.191752\n",
      "dtype: float64 \n",
      " 81.2\n",
      "58    50.5047\n",
      "dtype: float64 \n",
      " 50.504427258692296\n",
      "58    3.256710e+08\n",
      "dtype: float64 \n",
      " 325719178.0\n",
      "58    82.052727\n",
      "dtype: float64 \n",
      " 82.05799999999998\n"
     ]
    },
    {
     "name": "stderr",
     "output_type": "stream",
     "text": [
      "/anaconda3/lib/python3.6/site-packages/statsmodels/tsa/base/tsa_model.py:531: ValueWarning: No supported index is available. Prediction results will be given with an integer index beginning at `start`.\n",
      "  ValueWarning)\n",
      "/anaconda3/lib/python3.6/site-packages/statsmodels/tsa/base/tsa_model.py:221: ValueWarning: An unsupported index was provided and will be ignored when e.g. forecasting.\n",
      "  ' ignored when e.g. forecasting.', ValueWarning)\n",
      "/anaconda3/lib/python3.6/site-packages/statsmodels/tsa/base/tsa_model.py:531: ValueWarning: No supported index is available. Prediction results will be given with an integer index beginning at `start`.\n",
      "  ValueWarning)\n"
     ]
    }
   ],
   "source": [
    "for i in idx:\n",
    "    s = data[i].astype(float).interpolate(limit_direction='both')\n",
    "    m1 = ARIMA(s, order=(1, 0, 0)).fit()\n",
    "    pred = m1.predict(start=s.shape[0], end=s.shape[0])\n",
    "    print(pred, '\\n', s[2017])\n",
    "    data_2018[i] = pred"
   ]
  },
  {
   "cell_type": "code",
   "execution_count": 50,
   "metadata": {},
   "outputs": [
    {
     "data": {
      "text/plain": [
       "array([0.00000000e+00, 0.00000000e+00, 0.00000000e+00, 0.00000000e+00,\n",
       "       0.00000000e+00, 0.00000000e+00, 0.00000000e+00, 1.22065586e+02,\n",
       "       0.00000000e+00, 0.00000000e+00, 0.00000000e+00, 1.79472732e+01,\n",
       "       0.00000000e+00, 0.00000000e+00, 0.00000000e+00, 0.00000000e+00,\n",
       "       0.00000000e+00, 0.00000000e+00, 0.00000000e+00, 0.00000000e+00,\n",
       "       0.00000000e+00, 0.00000000e+00, 0.00000000e+00, 0.00000000e+00,\n",
       "       0.00000000e+00, 0.00000000e+00, 0.00000000e+00, 0.00000000e+00,\n",
       "       5.95316617e+04, 0.00000000e+00, 0.00000000e+00, 0.00000000e+00,\n",
       "       0.00000000e+00, 1.89204474e+01, 0.00000000e+00, 0.00000000e+00,\n",
       "       0.00000000e+00, 0.00000000e+00, 0.00000000e+00, 0.00000000e+00,\n",
       "       0.00000000e+00, 0.00000000e+00, 0.00000000e+00, 0.00000000e+00,\n",
       "       0.00000000e+00, 0.00000000e+00, 0.00000000e+00, 0.00000000e+00,\n",
       "       0.00000000e+00, 0.00000000e+00, 0.00000000e+00, 0.00000000e+00,\n",
       "       0.00000000e+00, 0.00000000e+00, 0.00000000e+00, 0.00000000e+00,\n",
       "       0.00000000e+00, 0.00000000e+00, 0.00000000e+00, 0.00000000e+00,\n",
       "       0.00000000e+00, 0.00000000e+00, 0.00000000e+00, 0.00000000e+00,\n",
       "       2.49613266e+00, 0.00000000e+00, 0.00000000e+00, 0.00000000e+00,\n",
       "       0.00000000e+00, 8.11917517e+01, 0.00000000e+00, 0.00000000e+00,\n",
       "       0.00000000e+00, 0.00000000e+00, 0.00000000e+00, 0.00000000e+00,\n",
       "       0.00000000e+00, 0.00000000e+00, 0.00000000e+00, 0.00000000e+00,\n",
       "       0.00000000e+00, 0.00000000e+00, 0.00000000e+00, 0.00000000e+00,\n",
       "       0.00000000e+00, 0.00000000e+00, 0.00000000e+00, 0.00000000e+00,\n",
       "       5.05046997e+01, 3.25671003e+08, 0.00000000e+00, 0.00000000e+00,\n",
       "       0.00000000e+00, 0.00000000e+00, 0.00000000e+00, 0.00000000e+00,\n",
       "       0.00000000e+00, 0.00000000e+00, 0.00000000e+00, 0.00000000e+00,\n",
       "       0.00000000e+00, 0.00000000e+00, 0.00000000e+00, 0.00000000e+00,\n",
       "       0.00000000e+00, 0.00000000e+00, 0.00000000e+00, 0.00000000e+00,\n",
       "       0.00000000e+00, 0.00000000e+00, 0.00000000e+00, 0.00000000e+00,\n",
       "       0.00000000e+00, 0.00000000e+00, 0.00000000e+00, 0.00000000e+00,\n",
       "       0.00000000e+00, 0.00000000e+00, 0.00000000e+00, 0.00000000e+00,\n",
       "       0.00000000e+00, 0.00000000e+00, 0.00000000e+00, 0.00000000e+00,\n",
       "       8.20527268e+01, 0.00000000e+00])"
      ]
     },
     "execution_count": 50,
     "metadata": {},
     "output_type": "execute_result"
    }
   ],
   "source": [
    "data_2018"
   ]
  },
  {
   "cell_type": "code",
   "execution_count": 54,
   "metadata": {},
   "outputs": [
    {
     "name": "stdout",
     "output_type": "stream",
     "text": [
      "[12.56747333]\n"
     ]
    }
   ],
   "source": [
    "# ОНО  ДАЖЕ РАБОТАЕТ КАК-ТО\n",
    "print(clf.predict(data_2018[idx].reshape(1, -1)))"
   ]
  },
  {
   "cell_type": "code",
   "execution_count": null,
   "metadata": {},
   "outputs": [],
   "source": []
  }
 ],
 "metadata": {
  "kernelspec": {
   "display_name": "Python 3",
   "language": "python",
   "name": "python3"
  },
  "language_info": {
   "codemirror_mode": {
    "name": "ipython",
    "version": 3
   },
   "file_extension": ".py",
   "mimetype": "text/x-python",
   "name": "python",
   "nbconvert_exporter": "python",
   "pygments_lexer": "ipython3",
   "version": "3.6.5"
  }
 },
 "nbformat": 4,
 "nbformat_minor": 2
}
