{
 "cells": [
  {
   "cell_type": "code",
   "execution_count": 10,
   "metadata": {},
   "outputs": [],
   "source": [
    "import numpy as np\n",
    "import pandas as pd\n",
    "import matplotlib.pyplot as plt\n",
    "import statsmodels.api as sm\n",
    "\n",
    "from pylab import rcParams\n",
    "from statsmodels.tsa.arima_model import ARIMA\n",
    "from statsmodels.tsa.statespace.sarimax import SARIMAX\n",
    "\n",
    "rcParams['figure.figsize'] = 16, 5"
   ]
  },
  {
   "cell_type": "code",
   "execution_count": 11,
   "metadata": {},
   "outputs": [],
   "source": [
    "data = pd.read_csv(\"table.csv\").T.iloc[:-5]"
   ]
  },
  {
   "cell_type": "code",
   "execution_count": 12,
   "metadata": {},
   "outputs": [
    {
     "data": {
      "text/html": [
       "<div>\n",
       "<style scoped>\n",
       "    .dataframe tbody tr th:only-of-type {\n",
       "        vertical-align: middle;\n",
       "    }\n",
       "\n",
       "    .dataframe tbody tr th {\n",
       "        vertical-align: top;\n",
       "    }\n",
       "\n",
       "    .dataframe thead th {\n",
       "        text-align: right;\n",
       "    }\n",
       "</style>\n",
       "<table border=\"1\" class=\"dataframe\">\n",
       "  <thead>\n",
       "    <tr style=\"text-align: right;\">\n",
       "      <th></th>\n",
       "      <th>0</th>\n",
       "      <th>1</th>\n",
       "      <th>2</th>\n",
       "      <th>3</th>\n",
       "      <th>4</th>\n",
       "      <th>5</th>\n",
       "      <th>6</th>\n",
       "      <th>7</th>\n",
       "      <th>8</th>\n",
       "      <th>9</th>\n",
       "      <th>...</th>\n",
       "      <th>116</th>\n",
       "      <th>117</th>\n",
       "      <th>118</th>\n",
       "      <th>119</th>\n",
       "      <th>120</th>\n",
       "      <th>121</th>\n",
       "      <th>122</th>\n",
       "      <th>123</th>\n",
       "      <th>124</th>\n",
       "      <th>125</th>\n",
       "    </tr>\n",
       "  </thead>\n",
       "  <tbody>\n",
       "    <tr>\n",
       "      <th>2013</th>\n",
       "      <td>0.48142</td>\n",
       "      <td>16.6431</td>\n",
       "      <td>5.94868e+07</td>\n",
       "      <td>0.284233</td>\n",
       "      <td>9.14742e+06</td>\n",
       "      <td>NaN</td>\n",
       "      <td>108.95</td>\n",
       "      <td>113.51</td>\n",
       "      <td>107.87</td>\n",
       "      <td>9.83151e+06</td>\n",
       "      <td>...</td>\n",
       "      <td>23.417</td>\n",
       "      <td>2.32906e+12</td>\n",
       "      <td>10.9762</td>\n",
       "      <td>3.36394</td>\n",
       "      <td>1.57959e+12</td>\n",
       "      <td>34.5709</td>\n",
       "      <td>7.20906</td>\n",
       "      <td>45.0638</td>\n",
       "      <td>81.299</td>\n",
       "      <td>2.57095e+08</td>\n",
       "    </tr>\n",
       "    <tr>\n",
       "      <th>2014</th>\n",
       "      <td>0.484164</td>\n",
       "      <td>16.8644</td>\n",
       "      <td>5.7979e+07</td>\n",
       "      <td>0.284233</td>\n",
       "      <td>9.14742e+06</td>\n",
       "      <td>NaN</td>\n",
       "      <td>114.95</td>\n",
       "      <td>117.03</td>\n",
       "      <td>108.75</td>\n",
       "      <td>9.83151e+06</td>\n",
       "      <td>...</td>\n",
       "      <td>23.1419</td>\n",
       "      <td>2.41255e+12</td>\n",
       "      <td>11.1564</td>\n",
       "      <td>3.18514</td>\n",
       "      <td>1.62053e+12</td>\n",
       "      <td>34.832</td>\n",
       "      <td>7.16069</td>\n",
       "      <td>45.2557</td>\n",
       "      <td>81.483</td>\n",
       "      <td>2.59623e+08</td>\n",
       "    </tr>\n",
       "    <tr>\n",
       "      <th>2015</th>\n",
       "      <td>0.474279</td>\n",
       "      <td>16.6454</td>\n",
       "      <td>5.812e+07</td>\n",
       "      <td>0.284233</td>\n",
       "      <td>9.14742e+06</td>\n",
       "      <td>NaN</td>\n",
       "      <td>114.12</td>\n",
       "      <td>116.61</td>\n",
       "      <td>108.91</td>\n",
       "      <td>9.83151e+06</td>\n",
       "      <td>...</td>\n",
       "      <td>21.0691</td>\n",
       "      <td>2.3153e+12</td>\n",
       "      <td>8.17133</td>\n",
       "      <td>2.93606</td>\n",
       "      <td>1.50257e+12</td>\n",
       "      <td>35.0962</td>\n",
       "      <td>7.11208</td>\n",
       "      <td>45.4523</td>\n",
       "      <td>81.671</td>\n",
       "      <td>2.62196e+08</td>\n",
       "    </tr>\n",
       "    <tr>\n",
       "      <th>2016</th>\n",
       "      <td>NaN</td>\n",
       "      <td>NaN</td>\n",
       "      <td>5.84541e+07</td>\n",
       "      <td>NaN</td>\n",
       "      <td>9.14742e+06</td>\n",
       "      <td>NaN</td>\n",
       "      <td>122.19</td>\n",
       "      <td>122.32</td>\n",
       "      <td>109.7</td>\n",
       "      <td>9.83151e+06</td>\n",
       "      <td>...</td>\n",
       "      <td>19.8726</td>\n",
       "      <td>2.25015e+12</td>\n",
       "      <td>7.71592</td>\n",
       "      <td>2.75595</td>\n",
       "      <td>1.45101e+12</td>\n",
       "      <td>35.3549</td>\n",
       "      <td>7.06513</td>\n",
       "      <td>45.666</td>\n",
       "      <td>81.862</td>\n",
       "      <td>2.64747e+08</td>\n",
       "    </tr>\n",
       "    <tr>\n",
       "      <th>2017</th>\n",
       "      <td>NaN</td>\n",
       "      <td>NaN</td>\n",
       "      <td>NaN</td>\n",
       "      <td>NaN</td>\n",
       "      <td>9.14742e+06</td>\n",
       "      <td>NaN</td>\n",
       "      <td>NaN</td>\n",
       "      <td>NaN</td>\n",
       "      <td>NaN</td>\n",
       "      <td>9.83151e+06</td>\n",
       "      <td>...</td>\n",
       "      <td>20.4028</td>\n",
       "      <td>2.4095e+12</td>\n",
       "      <td>10.5757</td>\n",
       "      <td>2.73335</td>\n",
       "      <td>1.54672e+12</td>\n",
       "      <td>35.6078</td>\n",
       "      <td>7.01962</td>\n",
       "      <td>45.8963</td>\n",
       "      <td>82.058</td>\n",
       "      <td>2.67279e+08</td>\n",
       "    </tr>\n",
       "  </tbody>\n",
       "</table>\n",
       "<p>5 rows × 126 columns</p>\n",
       "</div>"
      ],
      "text/plain": [
       "           0        1            2         3            4    5       6    \\\n",
       "2013   0.48142  16.6431  5.94868e+07  0.284233  9.14742e+06  NaN  108.95   \n",
       "2014  0.484164  16.8644   5.7979e+07  0.284233  9.14742e+06  NaN  114.95   \n",
       "2015  0.474279  16.6454    5.812e+07  0.284233  9.14742e+06  NaN  114.12   \n",
       "2016       NaN      NaN  5.84541e+07       NaN  9.14742e+06  NaN  122.19   \n",
       "2017       NaN      NaN          NaN       NaN  9.14742e+06  NaN     NaN   \n",
       "\n",
       "         7       8            9       ...           116          117      118  \\\n",
       "2013  113.51  107.87  9.83151e+06     ...        23.417  2.32906e+12  10.9762   \n",
       "2014  117.03  108.75  9.83151e+06     ...       23.1419  2.41255e+12  11.1564   \n",
       "2015  116.61  108.91  9.83151e+06     ...       21.0691   2.3153e+12  8.17133   \n",
       "2016  122.32   109.7  9.83151e+06     ...       19.8726  2.25015e+12  7.71592   \n",
       "2017     NaN     NaN  9.83151e+06     ...       20.4028   2.4095e+12  10.5757   \n",
       "\n",
       "          119          120      121      122      123     124          125  \n",
       "2013  3.36394  1.57959e+12  34.5709  7.20906  45.0638  81.299  2.57095e+08  \n",
       "2014  3.18514  1.62053e+12   34.832  7.16069  45.2557  81.483  2.59623e+08  \n",
       "2015  2.93606  1.50257e+12  35.0962  7.11208  45.4523  81.671  2.62196e+08  \n",
       "2016  2.75595  1.45101e+12  35.3549  7.06513   45.666  81.862  2.64747e+08  \n",
       "2017  2.73335  1.54672e+12  35.6078  7.01962  45.8963  82.058  2.67279e+08  \n",
       "\n",
       "[5 rows x 126 columns]"
      ]
     },
     "execution_count": 12,
     "metadata": {},
     "output_type": "execute_result"
    }
   ],
   "source": [
    "data.tail()"
   ]
  },
  {
   "cell_type": "code",
   "execution_count": 81,
   "metadata": {},
   "outputs": [
    {
     "data": {
      "text/plain": [
       "2013-01-01    0.481420\n",
       "2014-01-01    0.484164\n",
       "2015-01-01    0.474279\n",
       "2016-01-01    0.474279\n",
       "2017-01-01    0.474279\n",
       "Name: 0, dtype: float64"
      ]
     },
     "execution_count": 81,
     "metadata": {},
     "output_type": "execute_result"
    }
   ],
   "source": [
    "data.index = pd.to_datetime(data.index)\n",
    "s = data[0].astype(float).interpolate(limit_direction='both')\n",
    "# train = s[:-10]\n",
    "# test = s[-10:]\n",
    "train = s\n",
    "s.tail()"
   ]
  },
  {
   "cell_type": "code",
   "execution_count": 82,
   "metadata": {},
   "outputs": [
    {
     "data": {
      "text/plain": [
       "[<matplotlib.lines.Line2D at 0x1c1f4b9898>]"
      ]
     },
     "execution_count": 82,
     "metadata": {},
     "output_type": "execute_result"
    },
    {
     "data": {
      "image/png": "[encoded data removed]",
      "text/plain": [
       "<Figure size 1152x360 with 1 Axes>"
      ]
     },
     "metadata": {},
     "output_type": "display_data"
    }
   ],
   "source": [
    "plt.plot(train)\n",
    "# plt.plot(test)"
   ]
  },
  {
   "cell_type": "code",
   "execution_count": 83,
   "metadata": {},
   "outputs": [],
   "source": [
    "def find_d(dat, k=0):\n",
    "    adf = sm.tsa.adfuller(dat)\n",
    "    if adf[0] > adf[4]['5%']:\n",
    "        return find_d(dat.diff().interpolate(limit_direction='both'), k+1)\n",
    "    else:\n",
    "#         gr = sm.graphics.tsa.plot_acf(dat, lags=20)  # Автокорреляция\n",
    "#         gr = sm.graphics.tsa.plot_pacf(dat, lags=20)  # Частичная автокорреляция\n",
    "        return k"
   ]
  },
  {
   "cell_type": "code",
   "execution_count": 104,
   "metadata": {},
   "outputs": [
    {
     "data": {
      "text/plain": [
       "1"
      ]
     },
     "execution_count": 104,
     "metadata": {},
     "output_type": "execute_result"
    }
   ],
   "source": [
    "find_d(train)"
   ]
  },
  {
   "cell_type": "code",
   "execution_count": 85,
   "metadata": {},
   "outputs": [
    {
     "name": "stdout",
     "output_type": "stream",
     "text": [
      "CPU times: user 275 ms, sys: 8.06 ms, total: 283 ms\n",
      "Wall time: 144 ms\n"
     ]
    },
    {
     "name": "stderr",
     "output_type": "stream",
     "text": [
      "/anaconda3/lib/python3.6/site-packages/statsmodels/tsa/base/tsa_model.py:171: ValueWarning: No frequency information was provided, so inferred frequency AS-JAN will be used.\n",
      "  % freq, ValueWarning)\n",
      "/anaconda3/lib/python3.6/site-packages/statsmodels/tsa/base/tsa_model.py:171: ValueWarning: No frequency information was provided, so inferred frequency AS-JAN will be used.\n",
      "  % freq, ValueWarning)\n"
     ]
    }
   ],
   "source": [
    "%%time\n",
    "try:\n",
    "    m1 = ARIMA(train, order=(1, find_d(train), 1)).fit()\n",
    "    # pred1 = m1.predict(start=test.index[0], end=test.index[-1], typ='levels')\n",
    "    pred1 = m1.predict(start='2017-01-01', end='2018-01-01', typ='levels')\n",
    "except:\n",
    "    print('Может Лучше Не Надо ?\\n')\n",
    "    try:\n",
    "        m1 = ARIMA(train, order=(1, 0, 1)).fit()\n",
    "        # pred1 = m1.predict(start=test.index[0], end=test.index[-1])\n",
    "        pred1 = m1.predict(start='2017-01-01', end='2018-01-01')\n",
    "    except:\n",
    "        print('Вот Тут Рил Лучше Не Надо !!!\\n')\n",
    "        m1 = ARIMA(train, order=(0, 0, 0)).fit()\n",
    "        # pred1 = m1.predict(start=test.index[0], end=test.index[-1])\n",
    "        pred1 = m1.predict(start='2017-01-01', end='2018-01-01')"
   ]
  },
  {
   "cell_type": "code",
   "execution_count": 86,
   "metadata": {},
   "outputs": [
    {
     "data": {
      "text/plain": [
       "[<matplotlib.lines.Line2D at 0x1c1f630b00>]"
      ]
     },
     "execution_count": 86,
     "metadata": {},
     "output_type": "execute_result"
    },
    {
     "data": {
      "image/png": "[encoded data removed]",
      "text/plain": [
       "<Figure size 1152x360 with 1 Axes>"
      ]
     },
     "metadata": {},
     "output_type": "display_data"
    }
   ],
   "source": [
    "plt.plot(train, label='trian')\n",
    "# plt.plot(test, label='test')\n",
    "plt.plot(pred1, label='predict', c='r')"
   ]
  },
  {
   "cell_type": "code",
   "execution_count": null,
   "metadata": {},
   "outputs": [],
   "source": []
  }
 ],
 "metadata": {
  "kernelspec": {
   "display_name": "Python 3",
   "language": "python",
   "name": "python3"
  },
  "language_info": {
   "codemirror_mode": {
    "name": "ipython",
    "version": 3
   },
   "file_extension": ".py",
   "mimetype": "text/x-python",
   "name": "python",
   "nbconvert_exporter": "python",
   "pygments_lexer": "ipython3",
   "version": "3.6.5"
  }
 },
 "nbformat": 4,
 "nbformat_minor": 2
}
