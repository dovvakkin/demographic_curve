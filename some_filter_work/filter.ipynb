{
 "cells": [
  {
   "cell_type": "code",
   "execution_count": 1,
   "metadata": {},
   "outputs": [],
   "source": [
    "import numpy as np\n",
    "import pandas as pd\n",
    "import matplotlib as plt"
   ]
  },
  {
   "cell_type": "code",
   "execution_count": 2,
   "metadata": {},
   "outputs": [],
   "source": [
    "%%bash\n",
    "(cd ../data/; ls) > all_dirs.txt\n",
    "rm all_files.txt\n",
    "touch all_files.txt\n",
    "rm data_fullnesses.txt"
   ]
  },
  {
   "cell_type": "code",
   "execution_count": 3,
   "metadata": {},
   "outputs": [],
   "source": [
    "%%bash\n",
    "(cd ../data/'Agriculture & Rural Development'/; ls) >> all_files.txt; echo end >> all_files.txt\n",
    "(cd ../data/'Aid Effectiveness'/; ls) >> all_files.txt; echo end >> all_files.txt\n",
    "(cd ../data/'Economy & Growth'/; ls) >> all_files.txt; echo end >> all_files.txt\n",
    "(cd ../data/'Education'/; ls) >> all_files.txt; echo end >> all_files.txt\n",
    "(cd ../data/'Energy & Mining'/; ls) >> all_files.txt; echo end >> all_files.txt\n",
    "(cd ../data/'Environment'/; ls) >> all_files.txt; echo end >> all_files.txt\n",
    "(cd ../data/'External Debt'/; ls) >> all_files.txt; echo end >> all_files.txt\n",
    "(cd ../data/'Financial Sector'/; ls) >> all_files.txt; echo end >> all_files.txt\n",
    "(cd ../data/'Gender'/; ls) >> all_files.txt; echo end >> all_files.txt\n",
    "(cd ../data/'Health'/; ls) >> all_files.txt; echo end >> all_files.txt\n",
    "(cd ../data/'Infrastructure'/; ls) >> all_files.txt; echo end >> all_files.txt\n",
    "(cd ../data/'Poverty'/; ls) >> all_files.txt; echo end >> all_files.txt\n",
    "(cd ../data/'Private Sector'/; ls) >> all_files.txt; echo end >> all_files.txt\n",
    "(cd ../data/'Public Sector'/; ls) >> all_files.txt; echo end >> all_files.txt\n",
    "(cd ../data/'Science & Technology'/; ls) >> all_files.txt; echo end >> all_files.txt\n",
    "(cd ../data/'Social Development'/; ls) >> all_files.txt; echo end >> all_files.txt\n",
    "(cd ../data/'Social Protection & Labor'/; ls) >> all_files.txt; echo end >> all_files.txt\n",
    "(cd ../data/'Trade'/; ls) >> all_files.txt; echo end >> all_files.txt\n",
    "(cd ../data/'Urban Development'/; ls) >> all_files.txt; echo end >> all_files.txt"
   ]
  },
  {
   "cell_type": "code",
   "execution_count": 4,
   "metadata": {},
   "outputs": [],
   "source": [
    "list_of_dirs = ['Agriculture & Rural Development',\n",
    "                'Aid Effectiveness',\n",
    "                'Economy & Growth',\n",
    "                'Education',\n",
    "                'Energy & Mining',\n",
    "                'Environment',\n",
    "                'External Debt',\n",
    "                'Financial Sector',\n",
    "                'Gender',\n",
    "                'Health',\n",
    "                'Infrastructure',\n",
    "                'Poverty',\n",
    "                'Private Sector',\n",
    "                'Public Sector',\n",
    "                'Science & Technology',\n",
    "                'Social Development',\n",
    "                'Social Protection & Labor',\n",
    "                'Trade',\n",
    "                'Urban Development']"
   ]
  },
  {
   "cell_type": "code",
   "execution_count": 5,
   "metadata": {},
   "outputs": [],
   "source": [
    "def read_list_from_input(file):\n",
    "    \"\"\"\n",
    "    В файле хранятся имена всех таблиц\n",
    "    После файлов из каждой папки стоит 'end'\n",
    "    Функция возвращает один блок - файлы из одной папки\n",
    "    \"\"\"\n",
    "    \n",
    "    ret = []\n",
    "    for line in file:\n",
    "        if line == '\\n':\n",
    "            continue\n",
    "        if line == 'end\\n':\n",
    "            break\n",
    "        ret.append(line[:-1:])\n",
    "    return ret"
   ]
  },
  {
   "cell_type": "code",
   "execution_count": 6,
   "metadata": {},
   "outputs": [],
   "source": [
    "def find_eu_and_us_indices(df):\n",
    "    \"\"\"\n",
    "    Все просто! Функция ищет в Dataframe - df\n",
    "    Строки относящиеся к Европе и Штатам\n",
    "    \"\"\"\n",
    "    \n",
    "    eu = 'European Union'\n",
    "    us = 'United States'\n",
    "    for i, name in enumerate(df['Country Name']):\n",
    "        if name == eu:\n",
    "            eui = i\n",
    "        if name == us:\n",
    "            usi = i\n",
    "    return (eui, usi)"
   ]
  },
  {
   "cell_type": "code",
   "execution_count": 7,
   "metadata": {},
   "outputs": [],
   "source": [
    "fpath = '../data/'\n",
    "all_files = 'all_files.txt'\n",
    "data_fullnesses = 'data_fullnesses.txt'\n",
    "f = open(all_files, 'r')\n",
    "w = open(data_fullnesses, 'w')"
   ]
  },
  {
   "cell_type": "code",
   "execution_count": 8,
   "metadata": {},
   "outputs": [
    {
     "name": "stdout",
     "output_type": "stream",
     "text": [
      "CPU times: user 6.47 s, sys: 372 ms, total: 6.84 s\n",
      "Wall time: 6.99 s\n"
     ]
    }
   ],
   "source": [
    "%%time\n",
    "# select from all directories  \n",
    "for i, directory in enumerate(list_of_dirs):\n",
    "    list_of_files = read_list_from_input(f)\n",
    "    # select from all files\n",
    "    for j, csv in enumerate(list_of_files):\n",
    "        # read csv\n",
    "        cur_file_path = fpath + directory + '/' + csv\n",
    "        data = pd.read_csv(cur_file_path, skiprows=[0, 2])\n",
    "        \n",
    "        # take info about Eu and Us\n",
    "        eui, usi = find_eu_and_us_indices(data)\n",
    "        data_eu_and_us = pd.DataFrame({'Eu': data.iloc[eui][4:], 'Us': data.iloc[usi][4:]})\n",
    "        # how much data is not null\n",
    "        counts = data_eu_and_us.describe().T['count']\n",
    "        eu_count = counts[0] / data_eu_and_us.shape[0]\n",
    "        us_count = counts[1] / data_eu_and_us.shape[0]\n",
    "        \n",
    "        # Вот здесь можно запоминать 'хорошие' таблицы, чтобы потом соединять их\n",
    "        # Сейчас надо другим заниматься, потом доделаю\n",
    "        # А вообще, если Вадиму скучно, он тоже может этим заняться с:\n",
    "        \n",
    "        # write to data_fulnesses.txt\n",
    "        output = f\"EU: {eu_count:.4f} US: {us_count:.4f} : '{directory}/{csv}'\\n\"\n",
    "        w.write(output)\n",
    "    w.write('\\n')\n",
    "    continue"
   ]
  },
  {
   "cell_type": "code",
   "execution_count": 19,
   "metadata": {
    "scrolled": false
   },
   "outputs": [
    {
     "name": "stdout",
     "output_type": "stream",
     "text": [
      "Средняя заполненность всех таблиц (EU, US):\n",
      " 0.42498059071729954 0.39494345991561175\n",
      "Средняя заполненность 'хороших' таблиц (EU, US):\n",
      " 0.9831000000000001 0.9831\n",
      "Количество 'хороших' таблиц (EU, US):\n",
      " 28 32\n"
     ]
    }
   ],
   "source": [
    "file = open(data_fullnesses, 'r')\n",
    "eu_list = []\n",
    "us_list = []\n",
    "eu_good_list = []\n",
    "us_good_list = []\n",
    "for line in file:\n",
    "    if line == '\\n':\n",
    "        continue\n",
    "    line = line.split()\n",
    "    # Выбираем только заполненные >65% таблицы\n",
    "    if float(line[1]) > 0.98:\n",
    "        eu_good_list.append(float(line[1]))\n",
    "    if float(line[3]) > 0.98:\n",
    "        us_good_list.append(float(line[3]))\n",
    "    # Выбираем все таблицы\n",
    "    eu_list.append(float(line[1]))\n",
    "    us_list.append(float(line[3])) \n",
    "    \n",
    "print(\"Средняя заполненность всех таблиц (EU, US):\\n\", np.mean(eu_list), np.mean(us_list))\n",
    "print(\"Средняя заполненность 'хороших' таблиц (EU, US):\\n\", np.mean(eu_good_list), np.mean(us_good_list))\n",
    "print(\"Количество 'хороших' таблиц (EU, US):\\n\", len(eu_good_list), len(us_good_list))"
   ]
  },
  {
   "cell_type": "code",
   "execution_count": null,
   "metadata": {},
   "outputs": [],
   "source": []
  }
 ],
 "metadata": {
  "kernelspec": {
   "display_name": "Python 3",
   "language": "python",
   "name": "python3"
  },
  "language_info": {
   "codemirror_mode": {
    "name": "ipython",
    "version": 3
   },
   "file_extension": ".py",
   "mimetype": "text/x-python",
   "name": "python",
   "nbconvert_exporter": "python",
   "pygments_lexer": "ipython3",
   "version": "3.6.5"
  }
 },
 "nbformat": 4,
 "nbformat_minor": 2
}
