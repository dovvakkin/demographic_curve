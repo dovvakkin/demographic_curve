{
 "cells": [
  {
   "cell_type": "code",
   "execution_count": 10,
   "metadata": {},
   "outputs": [],
   "source": [
    "import numpy as np\n",
    "import pandas as pd\n",
    "import matplotlib as plt"
   ]
  },
  {
   "cell_type": "code",
   "execution_count": 11,
   "metadata": {},
   "outputs": [],
   "source": [
    "%%bash\n",
    "(cd ../data/; ls) > all_dirs.txt\n",
    "rm all_files.txt\n",
    "touch all_files.txt\n",
    "rm data_fullnesses.txt"
   ]
  },
  {
   "cell_type": "code",
   "execution_count": 12,
   "metadata": {},
   "outputs": [],
   "source": [
    "%%bash\n",
    "(cd ../data/'Agriculture & Rural Development'/; ls) >> all_files.txt; echo end >> all_files.txt\n",
    "(cd ../data/'Aid Effectiveness'/; ls) >> all_files.txt; echo end >> all_files.txt\n",
    "(cd ../data/'Economy & Growth'/; ls) >> all_files.txt; echo end >> all_files.txt\n",
    "(cd ../data/'Education'/; ls) >> all_files.txt; echo end >> all_files.txt\n",
    "(cd ../data/'Energy & Mining'/; ls) >> all_files.txt; echo end >> all_files.txt\n",
    "(cd ../data/'Environment'/; ls) >> all_files.txt; echo end >> all_files.txt\n",
    "(cd ../data/'External Debt'/; ls) >> all_files.txt; echo end >> all_files.txt\n",
    "(cd ../data/'Financial Sector'/; ls) >> all_files.txt; echo end >> all_files.txt\n",
    "(cd ../data/'Gender'/; ls) >> all_files.txt; echo end >> all_files.txt\n",
    "(cd ../data/'Health'/; ls) >> all_files.txt; echo end >> all_files.txt\n",
    "(cd ../data/'Infrastructure'/; ls) >> all_files.txt; echo end >> all_files.txt\n",
    "(cd ../data/'Poverty'/; ls) >> all_files.txt; echo end >> all_files.txt\n",
    "(cd ../data/'Private Sector'/; ls) >> all_files.txt; echo end >> all_files.txt\n",
    "(cd ../data/'Public Sector'/; ls) >> all_files.txt; echo end >> all_files.txt\n",
    "(cd ../data/'Science & Technology'/; ls) >> all_files.txt; echo end >> all_files.txt\n",
    "(cd ../data/'Social Development'/; ls) >> all_files.txt; echo end >> all_files.txt\n",
    "(cd ../data/'Social Protection & Labor'/; ls) >> all_files.txt; echo end >> all_files.txt\n",
    "(cd ../data/'Trade'/; ls) >> all_files.txt; echo end >> all_files.txt\n",
    "(cd ../data/'Urban Development'/; ls) >> all_files.txt; echo end >> all_files.txt"
   ]
  },
  {
   "cell_type": "code",
   "execution_count": 13,
   "metadata": {},
   "outputs": [],
   "source": [
    "list_of_dirs = ['Agriculture & Rural Development',\n",
    "                'Aid Effectiveness',\n",
    "                'Economy & Growth',\n",
    "                'Education',\n",
    "                'Energy & Mining',\n",
    "                'Environment',\n",
    "                'External Debt',\n",
    "                'Financial Sector',\n",
    "                'Gender',\n",
    "                'Health',\n",
    "                'Infrastructure',\n",
    "                'Poverty',\n",
    "                'Private Sector',\n",
    "                'Public Sector',\n",
    "                'Science & Technology',\n",
    "                'Social Development',\n",
    "                'Social Protection & Labor',\n",
    "                'Trade',\n",
    "                'Urban Development']"
   ]
  },
  {
   "cell_type": "code",
   "execution_count": 14,
   "metadata": {},
   "outputs": [],
   "source": [
    "fpath = '../data/'\n",
    "f = open('all_files.txt', 'r')\n",
    "w = open('data_fullnesses.txt', 'w')"
   ]
  },
  {
   "cell_type": "code",
   "execution_count": 15,
   "metadata": {},
   "outputs": [],
   "source": [
    "def read_list_from_input(file):\n",
    "    ret = []\n",
    "    for line in file:\n",
    "        if line == '\\n':\n",
    "            continue\n",
    "        if line == 'end\\n':\n",
    "            break\n",
    "        ret.append(line[:-1:])\n",
    "    return ret"
   ]
  },
  {
   "cell_type": "code",
   "execution_count": 16,
   "metadata": {},
   "outputs": [
    {
     "name": "stdout",
     "output_type": "stream",
     "text": [
      "CPU times: user 52.1 s, sys: 960 ms, total: 53 s\n",
      "Wall time: 53.4 s\n"
     ]
    }
   ],
   "source": [
    "%%time\n",
    "# select from all directories\n",
    "for i, directory in enumerate(list_of_dirs):\n",
    "    list_of_files = read_list_from_input(f)\n",
    "    # select from all files\n",
    "    for j, csv in enumerate(list_of_files):\n",
    "        # read csv\n",
    "        cur_file_path = fpath + directory + '/' + csv\n",
    "        data = pd.read_csv(cur_file_path, skiprows=[0, 2])\n",
    "        # how much data is not null (%)\n",
    "        counts = data.describe().T['count']\n",
    "        mean = np.mean(counts) /  data.shape[0] * 100\n",
    "        max_ = np.max(counts) /  data.shape[0] * 100\n",
    "        # write to data_fulnesses.txt\n",
    "        output = f\"{mean}% : {max_}% : {directory}/{csv}\\n\"\n",
    "        w.write(output)\n",
    "    w.write(\"\\n\")\n",
    "    continue"
   ]
  },
  {
   "cell_type": "code",
   "execution_count": null,
   "metadata": {},
   "outputs": [],
   "source": []
  }
 ],
 "metadata": {
  "kernelspec": {
   "display_name": "Python 3",
   "language": "python",
   "name": "python3"
  },
  "language_info": {
   "codemirror_mode": {
    "name": "ipython",
    "version": 3
   },
   "file_extension": ".py",
   "mimetype": "text/x-python",
   "name": "python",
   "nbconvert_exporter": "python",
   "pygments_lexer": "ipython3",
   "version": "3.6.5"
  }
 },
 "nbformat": 4,
 "nbformat_minor": 2
}
