{
 "cells": [
  {
   "cell_type": "code",
   "execution_count": 3,
   "metadata": {},
   "outputs": [],
   "source": [
    "import numpy as np\n",
    "import pandas as pd\n",
    "import matplotlib.pyplot as plt\n",
    "import statsmodels.api as sm\n",
    "\n",
    "from pylab import rcParams\n",
    "from statsmodels.tsa.arima_model import ARIMA\n",
    "from statsmodels.tsa.statespace.sarimax import SARIMAX\n",
    "from sklearn import ensemble\n",
    "from sklearn.linear_model import LinearRegression\n",
    "from sklearn.ensemble import RandomForestRegressor\n",
    "from sklearn.datasets import make_regression\n",
    "\n",
    "rcParams['figure.figsize'] = 16, 5"
   ]
  },
  {
   "cell_type": "code",
   "execution_count": 4,
   "metadata": {},
   "outputs": [],
   "source": [
    "data = pd.read_csv(\"table.csv\").T[:-6]"
   ]
  },
  {
   "cell_type": "code",
   "execution_count": 5,
   "metadata": {},
   "outputs": [
    {
     "data": {
      "text/html": [
       "<div>\n",
       "<style scoped>\n",
       "    .dataframe tbody tr th:only-of-type {\n",
       "        vertical-align: middle;\n",
       "    }\n",
       "\n",
       "    .dataframe tbody tr th {\n",
       "        vertical-align: top;\n",
       "    }\n",
       "\n",
       "    .dataframe thead th {\n",
       "        text-align: right;\n",
       "    }\n",
       "</style>\n",
       "<table border=\"1\" class=\"dataframe\">\n",
       "  <thead>\n",
       "    <tr style=\"text-align: right;\">\n",
       "      <th></th>\n",
       "      <th>0</th>\n",
       "      <th>1</th>\n",
       "      <th>2</th>\n",
       "      <th>3</th>\n",
       "      <th>4</th>\n",
       "      <th>5</th>\n",
       "      <th>6</th>\n",
       "      <th>7</th>\n",
       "      <th>8</th>\n",
       "      <th>9</th>\n",
       "      <th>...</th>\n",
       "      <th>116</th>\n",
       "      <th>117</th>\n",
       "      <th>118</th>\n",
       "      <th>119</th>\n",
       "      <th>120</th>\n",
       "      <th>121</th>\n",
       "      <th>122</th>\n",
       "      <th>123</th>\n",
       "      <th>124</th>\n",
       "      <th>125</th>\n",
       "    </tr>\n",
       "  </thead>\n",
       "  <tbody>\n",
       "    <tr>\n",
       "      <th>2007</th>\n",
       "      <td>0.537395</td>\n",
       "      <td>17.6688</td>\n",
       "      <td>6.19196e+07</td>\n",
       "      <td>0.283783</td>\n",
       "      <td>9.16192e+06</td>\n",
       "      <td>271.177</td>\n",
       "      <td>102.83</td>\n",
       "      <td>104.84</td>\n",
       "      <td>103.09</td>\n",
       "      <td>9.63203e+06</td>\n",
       "      <td>...</td>\n",
       "      <td>21.8862</td>\n",
       "      <td>2.0204e+12</td>\n",
       "      <td>3.95085</td>\n",
       "      <td>3.87277</td>\n",
       "      <td>1.1482e+12</td>\n",
       "      <td>32.8786</td>\n",
       "      <td>7.52616</td>\n",
       "      <td>44.1908</td>\n",
       "      <td>80.269</td>\n",
       "      <td>2.41795e+08</td>\n",
       "    </tr>\n",
       "    <tr>\n",
       "      <th>2008</th>\n",
       "      <td>0.532114</td>\n",
       "      <td>17.6894</td>\n",
       "      <td>6.09856e+07</td>\n",
       "      <td>0.284233</td>\n",
       "      <td>9.14742e+06</td>\n",
       "      <td>NaN</td>\n",
       "      <td>101.34</td>\n",
       "      <td>107.59</td>\n",
       "      <td>106.8</td>\n",
       "      <td>9.83151e+06</td>\n",
       "      <td>...</td>\n",
       "      <td>23.4868</td>\n",
       "      <td>2.16949e+12</td>\n",
       "      <td>6.50615</td>\n",
       "      <td>4.12707</td>\n",
       "      <td>1.28744e+12</td>\n",
       "      <td>33.2437</td>\n",
       "      <td>7.46241</td>\n",
       "      <td>44.2629</td>\n",
       "      <td>80.438</td>\n",
       "      <td>2.44607e+08</td>\n",
       "    </tr>\n",
       "    <tr>\n",
       "      <th>2009</th>\n",
       "      <td>0.514913</td>\n",
       "      <td>17.2683</td>\n",
       "      <td>5.79353e+07</td>\n",
       "      <td>0.284233</td>\n",
       "      <td>9.14742e+06</td>\n",
       "      <td>NaN</td>\n",
       "      <td>105.96</td>\n",
       "      <td>109.89</td>\n",
       "      <td>104.64</td>\n",
       "      <td>9.83151e+06</td>\n",
       "      <td>...</td>\n",
       "      <td>18.4575</td>\n",
       "      <td>1.6053e+12</td>\n",
       "      <td>5.78203</td>\n",
       "      <td>3.53132</td>\n",
       "      <td>1.05604e+12</td>\n",
       "      <td>33.5364</td>\n",
       "      <td>7.40439</td>\n",
       "      <td>44.3696</td>\n",
       "      <td>80.606</td>\n",
       "      <td>2.47276e+08</td>\n",
       "    </tr>\n",
       "    <tr>\n",
       "      <th>2010</th>\n",
       "      <td>0.504063</td>\n",
       "      <td>17.0459</td>\n",
       "      <td>5.74830e+07</td>\n",
       "      <td>0.284233</td>\n",
       "      <td>9.14742e+06</td>\n",
       "      <td>NaN</td>\n",
       "      <td>105.92</td>\n",
       "      <td>110.27</td>\n",
       "      <td>105.98</td>\n",
       "      <td>9.83151e+06</td>\n",
       "      <td>...</td>\n",
       "      <td>21.7027</td>\n",
       "      <td>1.96918e+12</td>\n",
       "      <td>7.17732</td>\n",
       "      <td>4.08623</td>\n",
       "      <td>1.2785e+12</td>\n",
       "      <td>33.817</td>\n",
       "      <td>7.35026</td>\n",
       "      <td>44.5015</td>\n",
       "      <td>80.772</td>\n",
       "      <td>2.49859e+08</td>\n",
       "    </tr>\n",
       "    <tr>\n",
       "      <th>2011</th>\n",
       "      <td>0.486674</td>\n",
       "      <td>16.5806</td>\n",
       "      <td>5.66678e+07</td>\n",
       "      <td>0.284233</td>\n",
       "      <td>9.14742e+06</td>\n",
       "      <td>NaN</td>\n",
       "      <td>101.81</td>\n",
       "      <td>109.06</td>\n",
       "      <td>106.85</td>\n",
       "      <td>9.83151e+06</td>\n",
       "      <td>...</td>\n",
       "      <td>24.1561</td>\n",
       "      <td>2.26602e+12</td>\n",
       "      <td>10.0427</td>\n",
       "      <td>4.20514</td>\n",
       "      <td>1.48251e+12</td>\n",
       "      <td>34.0691</td>\n",
       "      <td>7.30262</td>\n",
       "      <td>44.6795</td>\n",
       "      <td>80.944</td>\n",
       "      <td>2.52257e+08</td>\n",
       "    </tr>\n",
       "    <tr>\n",
       "      <th>2012</th>\n",
       "      <td>0.493984</td>\n",
       "      <td>16.9564</td>\n",
       "      <td>6.02533e+07</td>\n",
       "      <td>0.284233</td>\n",
       "      <td>9.14742e+06</td>\n",
       "      <td>NaN</td>\n",
       "      <td>100.78</td>\n",
       "      <td>107.97</td>\n",
       "      <td>106.81</td>\n",
       "      <td>9.83151e+06</td>\n",
       "      <td>...</td>\n",
       "      <td>24.0307</td>\n",
       "      <td>2.33652e+12</td>\n",
       "      <td>10.266</td>\n",
       "      <td>3.68996</td>\n",
       "      <td>1.5457e+12</td>\n",
       "      <td>34.3259</td>\n",
       "      <td>7.25449</td>\n",
       "      <td>44.8604</td>\n",
       "      <td>81.119</td>\n",
       "      <td>2.54708e+08</td>\n",
       "    </tr>\n",
       "    <tr>\n",
       "      <th>2013</th>\n",
       "      <td>0.48142</td>\n",
       "      <td>16.6431</td>\n",
       "      <td>5.94868e+07</td>\n",
       "      <td>0.284233</td>\n",
       "      <td>9.14742e+06</td>\n",
       "      <td>NaN</td>\n",
       "      <td>108.95</td>\n",
       "      <td>113.51</td>\n",
       "      <td>107.87</td>\n",
       "      <td>9.83151e+06</td>\n",
       "      <td>...</td>\n",
       "      <td>23.417</td>\n",
       "      <td>2.32906e+12</td>\n",
       "      <td>10.9762</td>\n",
       "      <td>3.36394</td>\n",
       "      <td>1.57959e+12</td>\n",
       "      <td>34.5709</td>\n",
       "      <td>7.20906</td>\n",
       "      <td>45.0638</td>\n",
       "      <td>81.299</td>\n",
       "      <td>2.57095e+08</td>\n",
       "    </tr>\n",
       "    <tr>\n",
       "      <th>2014</th>\n",
       "      <td>0.484164</td>\n",
       "      <td>16.8644</td>\n",
       "      <td>5.7979e+07</td>\n",
       "      <td>0.284233</td>\n",
       "      <td>9.14742e+06</td>\n",
       "      <td>NaN</td>\n",
       "      <td>114.95</td>\n",
       "      <td>117.03</td>\n",
       "      <td>108.75</td>\n",
       "      <td>9.83151e+06</td>\n",
       "      <td>...</td>\n",
       "      <td>23.1419</td>\n",
       "      <td>2.41255e+12</td>\n",
       "      <td>11.1564</td>\n",
       "      <td>3.18514</td>\n",
       "      <td>1.62053e+12</td>\n",
       "      <td>34.832</td>\n",
       "      <td>7.16069</td>\n",
       "      <td>45.2557</td>\n",
       "      <td>81.483</td>\n",
       "      <td>2.59623e+08</td>\n",
       "    </tr>\n",
       "    <tr>\n",
       "      <th>2015</th>\n",
       "      <td>0.474279</td>\n",
       "      <td>16.6454</td>\n",
       "      <td>5.812e+07</td>\n",
       "      <td>0.284233</td>\n",
       "      <td>9.14742e+06</td>\n",
       "      <td>NaN</td>\n",
       "      <td>114.12</td>\n",
       "      <td>116.61</td>\n",
       "      <td>108.91</td>\n",
       "      <td>9.83151e+06</td>\n",
       "      <td>...</td>\n",
       "      <td>21.0691</td>\n",
       "      <td>2.3153e+12</td>\n",
       "      <td>8.17133</td>\n",
       "      <td>2.93606</td>\n",
       "      <td>1.50257e+12</td>\n",
       "      <td>35.0962</td>\n",
       "      <td>7.11208</td>\n",
       "      <td>45.4523</td>\n",
       "      <td>81.671</td>\n",
       "      <td>2.62196e+08</td>\n",
       "    </tr>\n",
       "    <tr>\n",
       "      <th>2016</th>\n",
       "      <td>NaN</td>\n",
       "      <td>NaN</td>\n",
       "      <td>5.84541e+07</td>\n",
       "      <td>NaN</td>\n",
       "      <td>9.14742e+06</td>\n",
       "      <td>NaN</td>\n",
       "      <td>122.19</td>\n",
       "      <td>122.32</td>\n",
       "      <td>109.7</td>\n",
       "      <td>9.83151e+06</td>\n",
       "      <td>...</td>\n",
       "      <td>19.8726</td>\n",
       "      <td>2.25015e+12</td>\n",
       "      <td>7.71592</td>\n",
       "      <td>2.75595</td>\n",
       "      <td>1.45101e+12</td>\n",
       "      <td>35.3549</td>\n",
       "      <td>7.06513</td>\n",
       "      <td>45.666</td>\n",
       "      <td>81.862</td>\n",
       "      <td>2.64747e+08</td>\n",
       "    </tr>\n",
       "  </tbody>\n",
       "</table>\n",
       "<p>10 rows × 126 columns</p>\n",
       "</div>"
      ],
      "text/plain": [
       "           0        1            2         3            4        5       6    \\\n",
       "2007  0.537395  17.6688  6.19196e+07  0.283783  9.16192e+06  271.177  102.83   \n",
       "2008  0.532114  17.6894  6.09856e+07  0.284233  9.14742e+06      NaN  101.34   \n",
       "2009  0.514913  17.2683  5.79353e+07  0.284233  9.14742e+06      NaN  105.96   \n",
       "2010  0.504063  17.0459  5.74830e+07  0.284233  9.14742e+06      NaN  105.92   \n",
       "2011  0.486674  16.5806  5.66678e+07  0.284233  9.14742e+06      NaN  101.81   \n",
       "2012  0.493984  16.9564  6.02533e+07  0.284233  9.14742e+06      NaN  100.78   \n",
       "2013   0.48142  16.6431  5.94868e+07  0.284233  9.14742e+06      NaN  108.95   \n",
       "2014  0.484164  16.8644   5.7979e+07  0.284233  9.14742e+06      NaN  114.95   \n",
       "2015  0.474279  16.6454    5.812e+07  0.284233  9.14742e+06      NaN  114.12   \n",
       "2016       NaN      NaN  5.84541e+07       NaN  9.14742e+06      NaN  122.19   \n",
       "\n",
       "         7       8            9       ...           116          117      118  \\\n",
       "2007  104.84  103.09  9.63203e+06     ...       21.8862   2.0204e+12  3.95085   \n",
       "2008  107.59   106.8  9.83151e+06     ...       23.4868  2.16949e+12  6.50615   \n",
       "2009  109.89  104.64  9.83151e+06     ...       18.4575   1.6053e+12  5.78203   \n",
       "2010  110.27  105.98  9.83151e+06     ...       21.7027  1.96918e+12  7.17732   \n",
       "2011  109.06  106.85  9.83151e+06     ...       24.1561  2.26602e+12  10.0427   \n",
       "2012  107.97  106.81  9.83151e+06     ...       24.0307  2.33652e+12   10.266   \n",
       "2013  113.51  107.87  9.83151e+06     ...        23.417  2.32906e+12  10.9762   \n",
       "2014  117.03  108.75  9.83151e+06     ...       23.1419  2.41255e+12  11.1564   \n",
       "2015  116.61  108.91  9.83151e+06     ...       21.0691   2.3153e+12  8.17133   \n",
       "2016  122.32   109.7  9.83151e+06     ...       19.8726  2.25015e+12  7.71592   \n",
       "\n",
       "          119          120      121      122      123     124          125  \n",
       "2007  3.87277   1.1482e+12  32.8786  7.52616  44.1908  80.269  2.41795e+08  \n",
       "2008  4.12707  1.28744e+12  33.2437  7.46241  44.2629  80.438  2.44607e+08  \n",
       "2009  3.53132  1.05604e+12  33.5364  7.40439  44.3696  80.606  2.47276e+08  \n",
       "2010  4.08623   1.2785e+12   33.817  7.35026  44.5015  80.772  2.49859e+08  \n",
       "2011  4.20514  1.48251e+12  34.0691  7.30262  44.6795  80.944  2.52257e+08  \n",
       "2012  3.68996   1.5457e+12  34.3259  7.25449  44.8604  81.119  2.54708e+08  \n",
       "2013  3.36394  1.57959e+12  34.5709  7.20906  45.0638  81.299  2.57095e+08  \n",
       "2014  3.18514  1.62053e+12   34.832  7.16069  45.2557  81.483  2.59623e+08  \n",
       "2015  2.93606  1.50257e+12  35.0962  7.11208  45.4523  81.671  2.62196e+08  \n",
       "2016  2.75595  1.45101e+12  35.3549  7.06513   45.666  81.862  2.64747e+08  \n",
       "\n",
       "[10 rows x 126 columns]"
      ]
     },
     "execution_count": 5,
     "metadata": {},
     "output_type": "execute_result"
    }
   ],
   "source": [
    "data.tail(10)"
   ]
  },
  {
   "cell_type": "code",
   "execution_count": 6,
   "metadata": {},
   "outputs": [],
   "source": [
    "y = data[76]\n",
    "# inds from columns_description.txt\n",
    "# x = data[[7,20,33,34,64,69,72,73,74,88,89,103]]\n",
    "# x = data[[33, 64, 69, 73, 89]]\n",
    "\n",
    "x = data[[7, 11, 28, 33, 64, 69, 88, 89, 124]]\n",
    "\n",
    "\n",
    "\n",
    "x = x.fillna(0)\n",
    "\n",
    "x_train = x[:-2]\n",
    "y_train = y[:-2]\n",
    "\n",
    "x_test = x[-2:]\n",
    "y_test = y[-2:]"
   ]
  },
  {
   "cell_type": "code",
   "execution_count": 7,
   "metadata": {},
   "outputs": [
    {
     "data": {
      "text/plain": [
       "0.0"
      ]
     },
     "execution_count": 7,
     "metadata": {},
     "output_type": "execute_result"
    }
   ],
   "source": [
    "x_train = x_train.fillna(0)\n",
    "# clf = ensemble.GradientBoostingRegressor(max_depth = 6,\\\n",
    "#                                          min_samples_split = 5,\\\n",
    "#                                          learning_rate = 0.5)\n",
    "clf = ensemble.GradientBoostingRegressor(max_depth = 1,\\\n",
    "                                        min_samples_split = 25,\\\n",
    "                                        learning_rate = 0.8)\n",
    "# clf = RandomForestRegressor(max_depth=15, random_state=0,\n",
    "#                               n_estimators=100)\n",
    "avg = 0\n",
    "it = 10\n",
    "for i in range(it):\n",
    "    clf.fit(x_train, y_train)\n",
    "    x_test = x_test.fillna(0)\n",
    "    clf.predict(x_test)\n",
    "    avg += clf.score(x_test, y_test)\n",
    "\n",
    "avg/it"
   ]
  },
  {
   "cell_type": "code",
   "execution_count": 427,
   "metadata": {},
   "outputs": [],
   "source": [
    "# clf = LinearRegression()\n",
    "clf = ensemble.GradientBoostingRegressor()"
   ]
  },
  {
   "cell_type": "code",
   "execution_count": 408,
   "metadata": {},
   "outputs": [
    {
     "data": {
      "text/plain": [
       "LinearRegression(copy_X=True, fit_intercept=True, n_jobs=1, normalize=False)"
      ]
     },
     "execution_count": 408,
     "metadata": {},
     "output_type": "execute_result"
    }
   ],
   "source": [
    "# моделька, пожалуйста, не переобучайся\n",
    "clf.fit(x_train, y_train)"
   ]
  },
  {
   "cell_type": "code",
   "execution_count": 409,
   "metadata": {},
   "outputs": [],
   "source": [
    "x_test = x_test.fillna(0)"
   ]
  },
  {
   "cell_type": "code",
   "execution_count": 8,
   "metadata": {},
   "outputs": [
    {
     "data": {
      "text/plain": [
       "array([12.51488304, 12.51488304])"
      ]
     },
     "execution_count": 8,
     "metadata": {},
     "output_type": "execute_result"
    }
   ],
   "source": [
    "clf.predict(x_test)"
   ]
  },
  {
   "cell_type": "code",
   "execution_count": 412,
   "metadata": {},
   "outputs": [
    {
     "data": {
      "text/plain": [
       "-1.3832607340718681"
      ]
     },
     "execution_count": 412,
     "metadata": {},
     "output_type": "execute_result"
    }
   ],
   "source": [
    "clf.score(x_test, y_test)"
   ]
  },
  {
   "cell_type": "code",
   "execution_count": 413,
   "metadata": {},
   "outputs": [
    {
     "data": {
      "text/plain": [
       "0.9739731544463478"
      ]
     },
     "execution_count": 413,
     "metadata": {},
     "output_type": "execute_result"
    }
   ],
   "source": [
    "clf.score(x_train, y_train)"
   ]
  },
  {
   "cell_type": "code",
   "execution_count": 9,
   "metadata": {},
   "outputs": [
    {
     "data": {
      "text/plain": [
       "2015    12.4\n",
       "2016    12.4\n",
       "Name: 76, dtype: object"
      ]
     },
     "execution_count": 9,
     "metadata": {},
     "output_type": "execute_result"
    }
   ],
   "source": [
    "y_test"
   ]
  },
  {
   "cell_type": "code",
   "execution_count": null,
   "metadata": {},
   "outputs": [],
   "source": []
  }
 ],
 "metadata": {
  "kernelspec": {
   "display_name": "Python 3",
   "language": "python",
   "name": "python3"
  },
  "language_info": {
   "codemirror_mode": {
    "name": "ipython",
    "version": 3
   },
   "file_extension": ".py",
   "mimetype": "text/x-python",
   "name": "python",
   "nbconvert_exporter": "python",
   "pygments_lexer": "ipython3",
   "version": "3.6.5"
  }
 },
 "nbformat": 4,
 "nbformat_minor": 2
}